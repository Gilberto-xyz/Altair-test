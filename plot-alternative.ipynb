{
 "cells": [
  {
   "cell_type": "code",
   "execution_count": 1,
   "metadata": {},
   "outputs": [],
   "source": [
    "from datetime import datetime, timedelta\n",
    "\n",
    "import pandas as pd \n",
    "import altair as alt\n",
    "import numpy as np\n",
    "import pytz"
   ]
  },
  {
   "cell_type": "markdown",
   "metadata": {},
   "source": [
    "## Lectura de los archivos de los hilos\n",
    "\n",
    "Los archivos se dividen en dos grupos principales:\n",
    "\n",
    " - El archivo *threads.csv* y,\n",
    " - Los archivos *comments/comments_[THREAD_ID].csv*.\n",
    "\n",
    "El primer grupo es un único archivo que contiene información de alto nivel que actúa como agregador para el resto de los archivos. En este archivo se puede encontrar el nombre, el autor, el título, la fecha de creación, la puntuación y el número de comentarios de cada uno de los *hilos vivos* relacionados con la invasión."
   ]
  },
  {
   "cell_type": "code",
   "execution_count": 2,
   "metadata": {},
   "outputs": [
    {
     "data": {
      "text/html": [
       "<div>\n",
       "<style scoped>\n",
       "    .dataframe tbody tr th:only-of-type {\n",
       "        vertical-align: middle;\n",
       "    }\n",
       "\n",
       "    .dataframe tbody tr th {\n",
       "        vertical-align: top;\n",
       "    }\n",
       "\n",
       "    .dataframe thead th {\n",
       "        text-align: right;\n",
       "    }\n",
       "</style>\n",
       "<table border=\"1\" class=\"dataframe\">\n",
       "  <thead>\n",
       "    <tr style=\"text-align: right;\">\n",
       "      <th></th>\n",
       "      <th>id</th>\n",
       "      <th>name</th>\n",
       "      <th>author</th>\n",
       "      <th>title</th>\n",
       "      <th>created_utc</th>\n",
       "      <th>created_at</th>\n",
       "      <th>num_comments</th>\n",
       "      <th>score</th>\n",
       "      <th>upvote_ratio</th>\n",
       "      <th>permalink</th>\n",
       "    </tr>\n",
       "  </thead>\n",
       "  <tbody>\n",
       "    <tr>\n",
       "      <th>0</th>\n",
       "      <td>ssn7ic</td>\n",
       "      <td>t3_ssn7ic</td>\n",
       "      <td>09cb3c204828ede2196452cf1fe87c59</td>\n",
       "      <td>r/WorldNews Live Thread: Ukraine-Russia Tensions</td>\n",
       "      <td>1.644878e+09</td>\n",
       "      <td>2022-02-14 22:35:01</td>\n",
       "      <td>6774</td>\n",
       "      <td>2207</td>\n",
       "      <td>0.92</td>\n",
       "      <td>/r/worldnews/comments/ssn7ic/rworldnews_live_t...</td>\n",
       "    </tr>\n",
       "    <tr>\n",
       "      <th>1</th>\n",
       "      <td>st8lq0</td>\n",
       "      <td>t3_st8lq0</td>\n",
       "      <td>6fb4eee62d702c106897cbed2f56feea</td>\n",
       "      <td>r/worldnews Live Thread: Ukraine-Russia Tensions</td>\n",
       "      <td>1.644947e+09</td>\n",
       "      <td>2022-02-15 17:43:15</td>\n",
       "      <td>8915</td>\n",
       "      <td>3595</td>\n",
       "      <td>0.92</td>\n",
       "      <td>/r/worldnews/comments/st8lq0/rworldnews_live_t...</td>\n",
       "    </tr>\n",
       "  </tbody>\n",
       "</table>\n",
       "</div>"
      ],
      "text/plain": [
       "       id       name                            author  \\\n",
       "0  ssn7ic  t3_ssn7ic  09cb3c204828ede2196452cf1fe87c59   \n",
       "1  st8lq0  t3_st8lq0  6fb4eee62d702c106897cbed2f56feea   \n",
       "\n",
       "                                              title   created_utc  \\\n",
       "0  r/WorldNews Live Thread: Ukraine-Russia Tensions  1.644878e+09   \n",
       "1  r/worldnews Live Thread: Ukraine-Russia Tensions  1.644947e+09   \n",
       "\n",
       "            created_at  num_comments  score  upvote_ratio  \\\n",
       "0  2022-02-14 22:35:01          6774   2207          0.92   \n",
       "1  2022-02-15 17:43:15          8915   3595          0.92   \n",
       "\n",
       "                                           permalink  \n",
       "0  /r/worldnews/comments/ssn7ic/rworldnews_live_t...  \n",
       "1  /r/worldnews/comments/st8lq0/rworldnews_live_t...  "
      ]
     },
     "execution_count": 2,
     "metadata": {},
     "output_type": "execute_result"
    }
   ],
   "source": [
    "threads = pd.read_csv('data/threads.csv')\n",
    "threads.head(2)"
   ]
  },
  {
   "cell_type": "markdown",
   "metadata": {},
   "source": [
    "El segundo grupo contiene tantos archivos como hilos existan en el archivo *threads.csv*; cada uno tiene un nombre como *comments/comments_[THREAD_ID].csv*.\n",
    "\n",
    "Cada fila de estos archivos *csv* representa un comentario realizado en el hilo principal. La información disponible para cada comentario es: autor, identificador, cuerpo, fecha/hora de creación, si ha sido editado, puntuación y el comentario padre (si es una respuesta).\n",
    "\n",
    "Una cosa a tener en cuenta es que no se puede utilizar simplemente `pd.read_csv`, ya que a veces los comentarios pueden contener saltos de línea que hacen que a veces un solo comentario utilice más de una fila del fichero. Para leer con éxito todos estos archivos, uno necesita pasar el argumento `lineterminator`:"
   ]
  },
  {
   "cell_type": "code",
   "execution_count": 6,
   "metadata": {},
   "outputs": [
    {
     "data": {
      "text/html": [
       "<div>\n",
       "<style scoped>\n",
       "    .dataframe tbody tr th:only-of-type {\n",
       "        vertical-align: middle;\n",
       "    }\n",
       "\n",
       "    .dataframe tbody tr th {\n",
       "        vertical-align: top;\n",
       "    }\n",
       "\n",
       "    .dataframe thead th {\n",
       "        text-align: right;\n",
       "    }\n",
       "</style>\n",
       "<table border=\"1\" class=\"dataframe\">\n",
       "  <thead>\n",
       "    <tr style=\"text-align: right;\">\n",
       "      <th></th>\n",
       "      <th>author</th>\n",
       "      <th>submission_id</th>\n",
       "      <th>id</th>\n",
       "      <th>body</th>\n",
       "      <th>edited</th>\n",
       "      <th>created_utc</th>\n",
       "      <th>link_id</th>\n",
       "      <th>parent_id</th>\n",
       "      <th>distinguished</th>\n",
       "      <th>depth</th>\n",
       "      <th>ups</th>\n",
       "      <th>downs</th>\n",
       "      <th>score</th>\n",
       "      <th>total_awards_received</th>\n",
       "      <th>gilded</th>\n",
       "      <th>gildings</th>\n",
       "    </tr>\n",
       "  </thead>\n",
       "  <tbody>\n",
       "    <tr>\n",
       "      <th>0</th>\n",
       "      <td>160a3b6484fe752a9f15e1fff3d5b3d0</td>\n",
       "      <td>st8lq0</td>\n",
       "      <td>hx2f8f5</td>\n",
       "      <td>\"The State Emergency Service of Ukraine is pre...</td>\n",
       "      <td>False</td>\n",
       "      <td>1.644950e+09</td>\n",
       "      <td>t3_st8lq0</td>\n",
       "      <td>t3_st8lq0</td>\n",
       "      <td>NaN</td>\n",
       "      <td>0</td>\n",
       "      <td>190</td>\n",
       "      <td>0</td>\n",
       "      <td>190</td>\n",
       "      <td>0</td>\n",
       "      <td>0</td>\n",
       "      <td>NaN</td>\n",
       "    </tr>\n",
       "    <tr>\n",
       "      <th>1</th>\n",
       "      <td>0a8bc5553309fc8f0c301cd3d9f8a155</td>\n",
       "      <td>st8lq0</td>\n",
       "      <td>hx2hpq3</td>\n",
       "      <td>MOSCOW, Feb 15 (Reuters) - President Vladimir ...</td>\n",
       "      <td>False</td>\n",
       "      <td>1.644951e+09</td>\n",
       "      <td>t3_st8lq0</td>\n",
       "      <td>t3_st8lq0</td>\n",
       "      <td>NaN</td>\n",
       "      <td>0</td>\n",
       "      <td>156</td>\n",
       "      <td>0</td>\n",
       "      <td>156</td>\n",
       "      <td>0</td>\n",
       "      <td>0</td>\n",
       "      <td>NaN</td>\n",
       "    </tr>\n",
       "  </tbody>\n",
       "</table>\n",
       "</div>"
      ],
      "text/plain": [
       "                             author submission_id       id  \\\n",
       "0  160a3b6484fe752a9f15e1fff3d5b3d0        st8lq0  hx2f8f5   \n",
       "1  0a8bc5553309fc8f0c301cd3d9f8a155        st8lq0  hx2hpq3   \n",
       "\n",
       "                                                body edited   created_utc  \\\n",
       "0  \"The State Emergency Service of Ukraine is pre...  False  1.644950e+09   \n",
       "1  MOSCOW, Feb 15 (Reuters) - President Vladimir ...  False  1.644951e+09   \n",
       "\n",
       "     link_id  parent_id distinguished  depth  ups  downs  score  \\\n",
       "0  t3_st8lq0  t3_st8lq0           NaN      0  190      0    190   \n",
       "1  t3_st8lq0  t3_st8lq0           NaN      0  156      0    156   \n",
       "\n",
       "   total_awards_received  gilded gildings  \n",
       "0                      0       0      NaN  \n",
       "1                      0       0      NaN  "
      ]
     },
     "execution_count": 6,
     "metadata": {},
     "output_type": "execute_result"
    }
   ],
   "source": [
    "comments = pd.read_csv('data/comments/comments__st8lq0.csv', lineterminator='\\n')\n",
    "comments.head(2)"
   ]
  },
  {
   "cell_type": "markdown",
   "metadata": {},
   "source": [
    "## Trazar la frecuencia de los comentarios\n",
    "\n",
    "Ahora que hemos aprendido lo que contienen los archivos y cómo leerlos, vamos a hacer algo interesante con ellos. Veamos cómo ha cambiado el interés en el hilo a lo largo del tiempo contando el número de comentarios por hora.\n",
    "\n",
    "El proceso general es el siguiente\n",
    "\n",
    " 1. Leer todas las fechas de los comentarios\n",
    " 2. Poner las fechas en intervalos de 1 hora\n",
    " 3. Trazar."
   ]
  },
  {
   "cell_type": "markdown",
   "metadata": {},
   "source": [
    "### 1. Leer todas las fechas de los comentarios\n",
    "\n",
    "Podemos seguir usando *pandas* pero siendo más inteligentes en su uso. ¿Sabías que puedes especificar que sólo quieres un subconjunto de columnas con el argumento `usecols`?"
   ]
  },
  {
   "cell_type": "code",
   "execution_count": 7,
   "metadata": {},
   "outputs": [],
   "source": [
    "create_dates = []\n",
    "\n",
    "for thread_id in threads['id']:\n",
    "    data = pd.read_csv(f'data/comments/comments__{thread_id}.csv', lineterminator='\\n', usecols=['created_utc'])\n",
    "    create_dates.append(data['created_utc'].values)\n",
    "\n",
    "create_dates = np.concatenate(create_dates)"
   ]
  },
  {
   "cell_type": "markdown",
   "metadata": {},
   "source": [
    "Esto nos deja con la matriz NumPy `created_dates` que contiene 2.083.085$ números que representan la fecha de creación de cada comentario. El siguiente paso es dividir estas horas en intervalos de 1 hora."
   ]
  },
  {
   "cell_type": "markdown",
   "metadata": {},
   "source": [
    "### 2. Redondear los tiempos de creación\n",
    "\n",
    "Utilizaremos un par de funciones de ayuda para redondear las horas de las fechas hacia arriba o hacia abajo al paso más cercano en el intervalo que definamos (y una más para visualizar las marcas de tiempo)."
   ]
  },
  {
   "cell_type": "code",
   "execution_count": 9,
   "metadata": {},
   "outputs": [],
   "source": [
    "# Funciones de ayuda a la fecha\n",
    "\n",
    "INTERVAL = 3600# 1 hora en segundos\n",
    "\n",
    "def lower_bound(ts):\n",
    "    return ts - (ts % INTERVAL)\n",
    "\n",
    "def upper_bound(ts):\n",
    "    return ts + (INTERVAL - ((ts) % INTERVAL) if (ts) % INTERVAL != 0 else 0)\n",
    "\n",
    "def humanise(ts):\n",
    "    return datetime.fromtimestamp(ts).strftime('%m/%d/%Y, %H:%M:%S')"
   ]
  },
  {
   "cell_type": "markdown",
   "metadata": {},
   "source": [
    "Por ejemplo, toma la fecha *04/29/2022, 20:20:58* cuyo timestamp es `1651263658`:"
   ]
  },
  {
   "cell_type": "code",
   "execution_count": 10,
   "metadata": {},
   "outputs": [
    {
     "name": "stdout",
     "output_type": "stream",
     "text": [
      "04/29/2022, 15:00:00 es el límite inferior de 04/29/2022, 15:20:58 y su límite superior es 04/29/2022, 16:00:00\n"
     ]
    }
   ],
   "source": [
    "example_ts = 1651263658\n",
    "\n",
    "actual_date = humanise(example_ts)\n",
    "upper = humanise(upper_bound(example_ts))\n",
    "lower = humanise(lower_bound(example_ts))\n",
    "\n",
    "print(f'{lower} es el límite inferior de {actual_date} y su límite superior es {upper}')"
   ]
  },
  {
   "cell_type": "markdown",
   "metadata": {},
   "source": [
    "Ahora que tenemos una forma de calcular los límites superior e inferior de una fecha específica, podemos pasar a calcular los bordes de la bandeja. Esto es fácil una vez que conocemos las fechas mínimas y máximas en nuestro `created_dates`. De hecho, la obtención de los bordes de la bandeja es una línea de uno con NumPy:"
   ]
  }
 ],
 "metadata": {
  "interpreter": {
   "hash": "4e02a394f46a34fb7f702684e07532c65eb0e3cf841f78604b97865c14e9683e"
  },
  "kernelspec": {
   "display_name": "Python 3.10.2 64-bit",
   "language": "python",
   "name": "python3"
  },
  "language_info": {
   "codemirror_mode": {
    "name": "ipython",
    "version": 3
   },
   "file_extension": ".py",
   "mimetype": "text/x-python",
   "name": "python",
   "nbconvert_exporter": "python",
   "pygments_lexer": "ipython3",
   "version": "3.10.2"
  },
  "orig_nbformat": 4
 },
 "nbformat": 4,
 "nbformat_minor": 2
}
